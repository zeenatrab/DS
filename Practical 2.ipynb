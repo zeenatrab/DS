
class Node:

    def __init__(self, element, next=None):
        self.element = element
        self.next = next

    def display(self):
        print(self.element)


class LinkedList:

    def __init__(self):
        self.head = None
        self.size = 0

    def __len__(self):
        return self.size

    def is_empty(self):
        return self.size == 0

    def add_head(self, e):
        temp = self.head
        self.head = Node(e)
        self.head.next = temp
        self.size += 1

    def display(self):
        if self.size == 0:
            print("No element")
            return
        first = self.head
        print(first.element.element)
        first = first.next
        while first:

            print(first.element)
            first = first.next

    def get_tail(self):
        last_object = self.head
        while (last_object.next != None):
            last_object = last_object.next
        return last_object

    def remove_head(self):
        if self.is_empty():
            print("Empty Singly linked list")
        else:
            print("Removing")
            self.head = self.head.next
            self.size -= 1

    def add_tail(self, e):
        new_value = Node(e)
        self.get_tail().next = new_value
        self.size += 1

    def get_node_at(self, index):
        element_node = self.head
        counter = 0
        if index == 0:
            return element_node.element
        if index > self.size-1:
            print("Index out of bound")
            return None
        while(counter < index):
            element_node = element_node.next
            counter += 1
        return element_node

    def search(self, search_value):
        index = 0
        while (index < self.size):
            value = self.get_node_at(index)
            print("Searching at " + str(index) +
                  " and value is " + str(value.element))
            if value.element == search_value:
                print("Found value at " + str(index) + " location")
                return True
            index += 1
        print("Not Found")
        return False

    def merge(self, linkedlist_value):
        if self.size > 0:
            last_node = self.get_node_at(self.size-1)
            last_node.next = linkedlist_value.head
            self.size = self.size + linkedlist_value.size

        else:
            self.head = linkedlist_value.head
            self.size = linkedlist_value.size


l1 = Node('ZEENAT')
my_list = LinkedList()
my_list.add_head(l1)
my_list.add_tail('ZAINAB')
my_list.add_tail('FAIZ')
my_list.add_tail('HAFIZ')


my_list2 = LinkedList()
l2 = Node('FAZLA')
my_list2.add_head(l2)
my_list2.add_tail('KAUSAR')
my_list2.add_tail('POOJA')
my_list2.add_tail('SABA')
my_list.display()
my_list.merge(my_list2)
my_list.search('ZEENAT')

