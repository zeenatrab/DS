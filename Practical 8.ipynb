class Node:
    def __init__(self, key):
        self.left = None
        self.right = None
        self.val = key
        
def printInorder(root):
    if root:
        printInorder(root.left)
        print(root.val),
        printInorder(root.right)
        
def printPostorder(root):
    if root:
        printPostorder(root.left)
        printPostorder(root.right)
        print(root.val),
        
def printPreorder(root):
    if root:
        print(root.val),
        printPreorder(root.left)
        printPreorder(root.right)
        
root = Node(10)
root.left = Node(11)
root.right = Node(12)
root.left.left = Node(13)
root.left.right = Node(15)
print("Preorder traversal of binary tree is", printPreorder(root))
print("Inorder traversal of binary tree is", printInorder(root))
print("Postorder traversal of binary tree is", printPostorder(root))
